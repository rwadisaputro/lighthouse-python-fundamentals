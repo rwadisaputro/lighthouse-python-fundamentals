{
 "cells": [
  {
   "cell_type": "markdown",
   "metadata": {
    "ExecuteTime": {
     "end_time": "2020-02-05T17:56:18.818219Z",
     "start_time": "2020-02-05T17:56:18.810698Z"
    }
   },
   "source": [
    "## Exercise 1\n",
    "In Orange County, 51% of the adults are males. (It doesn't take too much advanced\n",
    "mathematics to deduce that the other 49% are females.) One adult is randomly selected\n",
    "for a survey involving credit card usage.\n",
    "\n",
    "- **(a)** Find the probability that the selected person is a male.\n",
    "\n",
    "- **(b)** It is later learned that the selected survey subject was smoking a cigar. Also, 9.5% of males smoke cigars, whereas 1.7% of females smoke cigars (based on data from the Substance Abuse and Mental Health Services Administration). Use this additional information to find the probability that the cigar−smoking respondent is a male\n",
    "\n",
    "Use following notation:\n",
    "M = male <br>\n",
    "F = female <br>\n",
    "C = cigar smoker<br>\n",
    "NC = not a cigar smoker<br>\n"
   ]
  },
  {
   "cell_type": "code",
   "execution_count": 2,
   "metadata": {},
   "outputs": [],
   "source": [
    "import numpy as np\n",
    "n_runs = 1000000\n",
    "M = 0\n",
    "M_C = 0\n",
    "M_NC = 0\n",
    "F = 0\n",
    "F_C = 0\n",
    "F_NC = 0\n",
    "C = 0\n",
    "NC = 0"
   ]
  },
  {
   "cell_type": "code",
   "execution_count": 3,
   "metadata": {},
   "outputs": [],
   "source": [
    "for i in range(n_runs):\n",
    "    if np.random.random() < 0.51: \n",
    "        M += 1\n",
    "        if np.random.random() < 0.095:\n",
    "            M_C += 1\n",
    "            C +=1\n",
    "        else:\n",
    "            M_NC += 1\n",
    "            NC += 1\n",
    "    else:\n",
    "        F += 1\n",
    "        if np.random.random() < 0.017:\n",
    "            F_C += 1\n",
    "            C += 1\n",
    "        else:\n",
    "            F_NC += 1\n",
    "            NC +=1"
   ]
  },
  {
   "cell_type": "code",
   "execution_count": 4,
   "metadata": {},
   "outputs": [],
   "source": [
    "P_M = M / n_runs * 100\n",
    "P_M_C = M_C / n_runs * 100\n",
    "P_M_NC = M_NC / n_runs * 100\n",
    "P_F = F / n_runs * 100\n",
    "P_F_C = F_C / n_runs * 100\n",
    "P_F_NC = F_NC / n_runs * 100\n",
    "P_C = C / n_runs * 100\n",
    "P_NC = NC / n_runs * 100"
   ]
  },
  {
   "cell_type": "markdown",
   "metadata": {},
   "source": [
    "#### 1a)"
   ]
  },
  {
   "cell_type": "code",
   "execution_count": 5,
   "metadata": {},
   "outputs": [
    {
     "name": "stdout",
     "output_type": "stream",
     "text": [
      "The probability that the selected person is a male is 51.0285%\n"
     ]
    }
   ],
   "source": [
    "print(f'The probability that the selected person is a male is {P_M}%')"
   ]
  },
  {
   "cell_type": "markdown",
   "metadata": {},
   "source": [
    "#### 1b)"
   ]
  },
  {
   "cell_type": "code",
   "execution_count": 6,
   "metadata": {},
   "outputs": [
    {
     "name": "stdout",
     "output_type": "stream",
     "text": [
      "The probability that the cigar−smoking respondent is a male is 4.8541%\n"
     ]
    }
   ],
   "source": [
    "print(f'The probability that the cigar−smoking respondent is a male is {P_M_C}%')"
   ]
  },
  {
   "cell_type": "markdown",
   "metadata": {
    "ExecuteTime": {
     "end_time": "2020-02-05T17:56:20.532960Z",
     "start_time": "2020-02-05T17:56:20.525450Z"
    }
   },
   "source": [
    "# Exercise 2\n",
    "\n",
    "A diagnostic test has a probability 0.95 of giving a positive result when applied to a person suffering\n",
    "from a certain disease, and a probability 0.10 of giving a (false) positive when applied to a non-sufferer. It is\n",
    "estimated that 0.5 % of the population are sufferers. Suppose that the test is now administered to a person about\n",
    "whom we have no relevant information relating to the disease (apart from the fact that he/she comes from this\n",
    "population). \n",
    "\n",
    "Calculate the following probabilities:\n",
    "- **(a)** that the test result will be positive;\n",
    "- **(b)** that, given a positive result, the person is a sufferer;\n",
    "- **(c)** that, given a negative result, the person is a non-sufferer;\n",
    "- **(d)** that the person will be misclassified.\n",
    "\n",
    "Use following notation:\n",
    "\n",
    "T = test positive <br>\n",
    "NT = test negative<br>\n",
    "S = sufferer<br>\n",
    "NS = non-sufferer<br>\n",
    "M = misclassified<br>\n",
    "\n",
    "Solve it by two approaches:\n",
    "1. Arithmetically\n",
    "2. By simulation"
   ]
  },
  {
   "cell_type": "markdown",
   "metadata": {},
   "source": [
    "### Arithmetically"
   ]
  },
  {
   "cell_type": "code",
   "execution_count": 96,
   "metadata": {},
   "outputs": [
    {
     "name": "stdout",
     "output_type": "stream",
     "text": [
      "2a) The probability that the test result will be positive is 0.0545\n",
      "2b) The probability that, given a positive result, the person is a sufferer is 0.00475\n",
      "2c) The probability that, given a negative result, the person is a non-sufferer is 0.9452499999999999\n",
      "2d) The probability that the person will be misclassified is 0.004975\n"
     ]
    }
   ],
   "source": [
    "# 2a)\n",
    "P_q2a = (0.005*0.95) + (0.995*0.05)\n",
    "print(f'2a) The probability that the test result will be positive is {P_q2a}')\n",
    "\n",
    "# 2b)\n",
    "P_q2b = 0.005*0.95\n",
    "print(f'2b) The probability that, given a positive result, the person is a sufferer is {P_q2b}') \n",
    "\n",
    "# 2c)\n",
    "P_q2c = 0.995*0.95\n",
    "print(f'2c) The probability that, given a negative result, the person is a non-sufferer is {P_q2c}')\n",
    "\n",
    "# 2d)\n",
    "P_q2d = 0.995*0.05*0.1\n",
    "print(f'2d) The probability that the person will be misclassified is {P_q2d}')"
   ]
  },
  {
   "cell_type": "markdown",
   "metadata": {},
   "source": [
    "### By simulation"
   ]
  },
  {
   "cell_type": "code",
   "execution_count": 97,
   "metadata": {},
   "outputs": [],
   "source": [
    "n_runs2 = 100000000\n",
    "S = 0\n",
    "S_T = 0\n",
    "S_NT = 0\n",
    "NS = 0\n",
    "NS_T = 0\n",
    "NS_NT = 0\n",
    "T = 0\n",
    "NT = 0\n",
    "M = 0\n",
    "NM = 0"
   ]
  },
  {
   "cell_type": "code",
   "execution_count": 98,
   "metadata": {},
   "outputs": [
    {
     "name": "stdout",
     "output_type": "stream",
     "text": [
      "500908\n",
      "476049\n",
      "24859\n",
      "99499092\n",
      "4976695\n",
      "94522397\n",
      "5452744\n",
      "94547256\n",
      "497253\n",
      "4479442\n"
     ]
    }
   ],
   "source": [
    "for i in range(n_runs2):\n",
    "    if np.random.random() < 0.005: \n",
    "        S += 1\n",
    "        if np.random.random() < 0.95:\n",
    "            S_T += 1\n",
    "            T +=1\n",
    "        else:\n",
    "            S_NT += 1\n",
    "            NT += 1\n",
    "    else:\n",
    "        NS += 1\n",
    "        if np.random.random() < 0.05:\n",
    "            NS_T += 1\n",
    "            T += 1\n",
    "            if np.random.random() < 0.1:\n",
    "                M += 1\n",
    "            else:\n",
    "                NM += 1\n",
    "        else:\n",
    "            NS_NT += 1\n",
    "            NT +=1\n",
    "\n",
    "print(S)\n",
    "print(S_T)\n",
    "print(S_NT)\n",
    "print(NS)\n",
    "print(NS_T)\n",
    "print(NS_NT)\n",
    "print(T)\n",
    "print(NT)\n",
    "print(M)\n",
    "print(NM)"
   ]
  },
  {
   "cell_type": "code",
   "execution_count": 99,
   "metadata": {},
   "outputs": [],
   "source": [
    "P_T = T / n_runs2 * 100\n",
    "P_S_T = S_T / n_runs2 * 100\n",
    "P_NS_NT = NS_NT / n_runs2 * 100\n",
    "P_M = M / n_runs2 * 100"
   ]
  },
  {
   "cell_type": "code",
   "execution_count": 100,
   "metadata": {},
   "outputs": [
    {
     "name": "stdout",
     "output_type": "stream",
     "text": [
      "2a) The probability that the test result will be positive is 5.452744%\n",
      "2b) The probability that, given a positive result, the person is a sufferer is 0.476049%\n",
      "2c) The probability that, given a negative result, the person is a non-sufferer is 94.522397%\n",
      "2d) The probability that the person will be misclassified is 0.497253%\n"
     ]
    }
   ],
   "source": [
    "# 2a)\n",
    "print(f'2a) The probability that the test result will be positive is {P_T}%')\n",
    "\n",
    "# 2b)\n",
    "print(f'2b) The probability that, given a positive result, the person is a sufferer is {P_S_T}%') \n",
    "\n",
    "# 2c)\n",
    "print(f'2c) The probability that, given a negative result, the person is a non-sufferer is {P_NS_NT}%')\n",
    "\n",
    "# 2d)\n",
    "print(f'2d) The probability that the person will be misclassified is {P_M}%')"
   ]
  },
  {
   "cell_type": "code",
   "execution_count": null,
   "metadata": {},
   "outputs": [],
   "source": []
  }
 ],
 "metadata": {
  "kernelspec": {
   "display_name": "Python 3",
   "language": "python",
   "name": "python3"
  },
  "language_info": {
   "codemirror_mode": {
    "name": "ipython",
    "version": 3
   },
   "file_extension": ".py",
   "mimetype": "text/x-python",
   "name": "python",
   "nbconvert_exporter": "python",
   "pygments_lexer": "ipython3",
   "version": "3.7.6"
  },
  "toc": {
   "base_numbering": 1,
   "nav_menu": {},
   "number_sections": true,
   "sideBar": true,
   "skip_h1_title": false,
   "title_cell": "Table of Contents",
   "title_sidebar": "Contents",
   "toc_cell": false,
   "toc_position": {},
   "toc_section_display": true,
   "toc_window_display": false
  },
  "varInspector": {
   "cols": {
    "lenName": 16,
    "lenType": 16,
    "lenVar": 40
   },
   "kernels_config": {
    "python": {
     "delete_cmd_postfix": "",
     "delete_cmd_prefix": "del ",
     "library": "var_list.py",
     "varRefreshCmd": "print(var_dic_list())"
    },
    "r": {
     "delete_cmd_postfix": ") ",
     "delete_cmd_prefix": "rm(",
     "library": "var_list.r",
     "varRefreshCmd": "cat(var_dic_list()) "
    }
   },
   "types_to_exclude": [
    "module",
    "function",
    "builtin_function_or_method",
    "instance",
    "_Feature"
   ],
   "window_display": false
  }
 },
 "nbformat": 4,
 "nbformat_minor": 4
}
