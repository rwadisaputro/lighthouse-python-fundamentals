{
 "cells": [
  {
   "cell_type": "markdown",
   "metadata": {},
   "source": [
    "Kata 1"
   ]
  },
  {
   "cell_type": "code",
   "execution_count": 102,
   "metadata": {},
   "outputs": [
    {
     "name": "stdin",
     "output_type": "stream",
     "text": [
      "Enter a list elements separated by space  5 1 2 6 8 2\n"
     ]
    },
    {
     "name": "stdout",
     "output_type": "stream",
     "text": [
      "['1', '2', '2', '5', '6', '8']\n",
      "14\n"
     ]
    }
   ],
   "source": [
    "input_str = input(\"Enter a list elements separated by space \")\n",
    "input_list = input_str.split()\n",
    "input_list.sort()\n",
    "print(input_list)\n",
    "max1 = input_list[-1]\n",
    "max2 = input_list[-2]\n",
    "def sumLargestNumbers():\n",
    "    return int(max1) + int(max2)\n",
    "\n",
    "print(sumLargestNumbers())"
   ]
  },
  {
   "cell_type": "markdown",
   "metadata": {},
   "source": [
    "Kata 2"
   ]
  },
  {
   "cell_type": "code",
   "execution_count": 105,
   "metadata": {},
   "outputs": [
    {
     "name": "stdout",
     "output_type": "stream",
     "text": [
      "6\n"
     ]
    }
   ],
   "source": [
    "def conditionalSum(values, condition):\n",
    "    odd_values = []\n",
    "    even_values = []\n",
    "    for i in values:\n",
    "        if condition == 'odd' and i%2 > 0:\n",
    "            odd_values.append(i)\n",
    "        elif condition == 'even' and i%2 == 0:\n",
    "            even_values.append(i)\n",
    "        else:\n",
    "            pass\n",
    "    if condition == 'odd':\n",
    "        return sum(odd_values)\n",
    "    else:\n",
    "        return sum(even_values)\n",
    "    \n",
    "print(conditionalSum([1,2,3,4], 'even'))"
   ]
  },
  {
   "cell_type": "markdown",
   "metadata": {},
   "source": [
    "Kata 3"
   ]
  },
  {
   "cell_type": "code",
   "execution_count": 7,
   "metadata": {},
   "outputs": [
    {
     "name": "stdout",
     "output_type": "stream",
     "text": [
      "2\n"
     ]
    }
   ],
   "source": [
    "def numberOfVowels(data):\n",
    "    alphabet = list(data)\n",
    "    vowel_list = []\n",
    "    for k in alphabet:\n",
    "        if k == 'a' or k == 'i' or k == 'u' or k == 'e' or k == 'o':\n",
    "            vowel_list.append(k)\n",
    "    return len(vowel_list)\n",
    "\n",
    "print(numberOfVowels('apple'))"
   ]
  },
  {
   "cell_type": "markdown",
   "metadata": {},
   "source": [
    "Kata 4"
   ]
  },
  {
   "cell_type": "code",
   "execution_count": 53,
   "metadata": {},
   "outputs": [
    {
     "ename": "NameError",
     "evalue": "name 'name' is not defined",
     "output_type": "error",
     "traceback": [
      "\u001b[1;31m---------------------------------------------------------------------------\u001b[0m",
      "\u001b[1;31mNameError\u001b[0m                                 Traceback (most recent call last)",
      "\u001b[1;32m<ipython-input-53-aa9078e030f9>\u001b[0m in \u001b[0;36m<module>\u001b[1;34m\u001b[0m\n\u001b[0;32m      5\u001b[0m \u001b[1;33m\u001b[0m\u001b[0m\n\u001b[0;32m      6\u001b[0m print(instructorWithLongestName([\n\u001b[1;32m----> 7\u001b[1;33m   \u001b[1;33m{\u001b[0m\u001b[0mname\u001b[0m\u001b[1;33m:\u001b[0m \u001b[1;34m\"Samuel\"\u001b[0m\u001b[1;33m,\u001b[0m \u001b[0mcourse\u001b[0m\u001b[1;33m:\u001b[0m \u001b[1;34m\"iOS\"\u001b[0m\u001b[1;33m}\u001b[0m\u001b[1;33m,\u001b[0m\u001b[1;33m\u001b[0m\u001b[1;33m\u001b[0m\u001b[0m\n\u001b[0m\u001b[0;32m      8\u001b[0m   \u001b[1;33m{\u001b[0m\u001b[0mname\u001b[0m\u001b[1;33m:\u001b[0m \u001b[1;34m\"Jeremiah\"\u001b[0m\u001b[1;33m,\u001b[0m \u001b[0mcourse\u001b[0m\u001b[1;33m:\u001b[0m \u001b[1;34m\"Data\"\u001b[0m\u001b[1;33m}\u001b[0m\u001b[1;33m,\u001b[0m\u001b[1;33m\u001b[0m\u001b[1;33m\u001b[0m\u001b[0m\n\u001b[0;32m      9\u001b[0m   \u001b[1;33m{\u001b[0m\u001b[0mname\u001b[0m\u001b[1;33m:\u001b[0m \u001b[1;34m\"Ophilia\"\u001b[0m\u001b[1;33m,\u001b[0m \u001b[0mcourse\u001b[0m\u001b[1;33m:\u001b[0m \u001b[1;34m\"Web\"\u001b[0m\u001b[1;33m}\u001b[0m\u001b[1;33m,\u001b[0m\u001b[1;33m\u001b[0m\u001b[1;33m\u001b[0m\u001b[0m\n",
      "\u001b[1;31mNameError\u001b[0m: name 'name' is not defined"
     ]
    }
   ],
   "source": [
    "def instructorWithLongestName(instructors):\n",
    "    sort1 = instructors.items()\n",
    "    sort_by_longest_name = sorted(sort1)\n",
    "    return sort_by_longest_name[0]\n",
    "\n",
    "print(instructorWithLongestName([\n",
    "  {name: \"Samuel\", course: \"iOS\"},\n",
    "  {name: \"Jeremiah\", course: \"Data\"},\n",
    "  {name: \"Ophilia\", course: \"Web\"},\n",
    "  {name: \"Donald\", course: \"Web\"}\n",
    "]))"
   ]
  },
  {
   "cell_type": "markdown",
   "metadata": {},
   "source": [
    "Kata 5"
   ]
  },
  {
   "cell_type": "code",
   "execution_count": 52,
   "metadata": {},
   "outputs": [
    {
     "name": "stdout",
     "output_type": "stream",
     "text": [
      "Lighthouse%20Labs\n"
     ]
    }
   ],
   "source": [
    "def urlEncode(text):\n",
    "    replacement = ''\n",
    "    for i in range(len(text)):\n",
    "        if(text[i] == ' '):\n",
    "            replacement = replacement + '%20'\n",
    "        else:\n",
    "            replacement = replacement + text[i]\n",
    "    return replacement\n",
    "    \n",
    "print(urlEncode('Lighthouse Labs'))"
   ]
  },
  {
   "cell_type": "markdown",
   "metadata": {},
   "source": [
    "Kata 6"
   ]
  },
  {
   "cell_type": "code",
   "execution_count": 89,
   "metadata": {},
   "outputs": [
    {
     "name": "stdout",
     "output_type": "stream",
     "text": [
      "None\n"
     ]
    }
   ],
   "source": [
    "import numpy as np\n",
    "\n",
    "def whereCanIPark(spots, vehicle):\n",
    "    spots = np.empty([6,6], dtype = str)\n",
    "    if vehicle == 'regular':\n",
    "        parking_spot = np.where(spots == 'R')\n",
    "        coordinate = list(zip(parking_spot[0], parking_spot[1]))\n",
    "        for coord in coordinate:\n",
    "            print(coord)\n",
    "    elif vehicle == 'small':\n",
    "        parking_spot1 = np.where(spots == 'R')\n",
    "        coordinate1 = list(zip(parking_spot1[0], parking_spot1[1]))\n",
    "        for coord in coordinate1:\n",
    "            print(coord)\n",
    "        parking_spot2 = np.where(spots == 'S')\n",
    "        coordinate2 = list(zip(parking_spot2[0], parking_spot2[1]))\n",
    "        for coord in coordinate2:\n",
    "            print(coord)\n",
    "    elif vehicle == 'motorcycle':\n",
    "        parking_spot1 = np.where(spots == 'R')\n",
    "        coordinate1 = list(zip(parking_spot1[0], parking_spot1[1]))\n",
    "        for coord in coordinate1:\n",
    "            print(coord)\n",
    "        parking_spot2 = np.where(spots == 'S')\n",
    "        coordinate2 = list(zip(parking_spot2[0], parking_spot2[1]))\n",
    "        for coord in coordinate2:\n",
    "            print(coord)\n",
    "        parking_spot3 = np.where(spots == 'M')\n",
    "        coordinate3 = list(zip(parking_spot3[0], parking_spot3[1]))\n",
    "        for coord in coordinate3:\n",
    "            print(coord)\n",
    "    else:\n",
    "        print('None')\n",
    "        \n",
    "print(whereCanIPark(\n",
    "  [['s', 's', 's', 'S', 'R', 'M'], \n",
    "    ['s', 'M', 's', 'S', 'r', 'M'], \n",
    "    ['s', 'M', 's', 'S', 'r', 'm'], \n",
    "    ['S', 'r', 's', 'm', 'r', 'M'], \n",
    "    ['S', 'r', 's', 'm', 'r', 'M'],\n",
    "    ['S', 'r', 'S', 'M', 'M', 'S']], 'regular'))"
   ]
  },
  {
   "cell_type": "markdown",
   "metadata": {},
   "source": [
    "Kata 7"
   ]
  },
  {
   "cell_type": "code",
   "execution_count": 79,
   "metadata": {},
   "outputs": [
    {
     "name": "stdout",
     "output_type": "stream",
     "text": [
      "Polluted\n",
      "None\n"
     ]
    }
   ],
   "source": [
    "def checkAir(samples, threshold):\n",
    "    clean_air = []\n",
    "    for s in samples:\n",
    "        if s =='clean':\n",
    "            clean_air.append(s)\n",
    "        else:\n",
    "            pass\n",
    "    if len(clean_air) / len(samples) > threshold:\n",
    "        print('Clean')\n",
    "    else:\n",
    "        print('Polluted')\n",
    "\n",
    "print(checkAir(\n",
    "  ['dirty', 'dirty', 'dirty', 'dirty', 'clean'],\n",
    "  0.25\n",
    "))"
   ]
  },
  {
   "cell_type": "markdown",
   "metadata": {},
   "source": [
    "Kata 6 Stretch"
   ]
  },
  {
   "cell_type": "code",
   "execution_count": 1,
   "metadata": {},
   "outputs": [
    {
     "name": "stdout",
     "output_type": "stream",
     "text": [
      "['1111111111']\n",
      "['11', '222']\n"
     ]
    }
   ],
   "source": [
    "def repeatNumbers(data):\n",
    "    n=[]\n",
    "    for i in range(len(data)):\n",
    "        n.append(str(data[i][0])*data[i][1])\n",
    "    return n\n",
    "\n",
    "print(repeatNumbers([[1, 10]]))\n",
    "print(repeatNumbers([[1, 2], [2, 3]]))"
   ]
  },
  {
   "cell_type": "markdown",
   "metadata": {},
   "source": [
    "Kata 7 Stretch "
   ]
  },
  {
   "cell_type": "code",
   "execution_count": 3,
   "metadata": {},
   "outputs": [
    {
     "name": "stdout",
     "output_type": "stream",
     "text": [
      "thisIsAString\n",
      "loopyLighthouse\n",
      "supercalifragalisticexpialidocious\n"
     ]
    }
   ],
   "source": [
    "def camelCase(input):\n",
    "    to_convert=input.rsplit()\n",
    "    new_to_convert=[]\n",
    "    for i in range(len(to_convert)):\n",
    "        if i != 0:\n",
    "            new_to_convert+=to_convert[i].capitalize()\n",
    "        else:\n",
    "            new_to_convert+=to_convert[i].lower()\n",
    "    return ''.join(new_to_convert)\n",
    "\n",
    "print(camelCase(\"this is a string\"))\n",
    "print(camelCase(\"loopy lighthouse\"))\n",
    "print(camelCase(\"supercalifragalisticexpialidocious\"))"
   ]
  },
  {
   "cell_type": "markdown",
   "metadata": {},
   "source": [
    "Kata 8 Stretch"
   ]
  },
  {
   "cell_type": "code",
   "execution_count": 11,
   "metadata": {},
   "outputs": [
    {
     "name": "stdout",
     "output_type": "stream",
     "text": [
      "[[1 2 3]\n",
      " [2 4 6]\n",
      " [3 6 9]]\n",
      "[[ 1  2  3  4  5]\n",
      " [ 2  4  6  8 10]\n",
      " [ 3  6  9 12 15]\n",
      " [ 4  8 12 16 20]\n",
      " [ 5 10 15 20 25]]\n",
      "[[  1   2   3   4   5   6   7   8   9  10  11  12]\n",
      " [  2   4   6   8  10  12  14  16  18  20  22  24]\n",
      " [  3   6   9  12  15  18  21  24  27  30  33  36]\n",
      " [  4   8  12  16  20  24  28  32  36  40  44  48]\n",
      " [  5  10  15  20  25  30  35  40  45  50  55  60]\n",
      " [  6  12  18  24  30  36  42  48  54  60  66  72]\n",
      " [  7  14  21  28  35  42  49  56  63  70  77  84]\n",
      " [  8  16  24  32  40  48  56  64  72  80  88  96]\n",
      " [  9  18  27  36  45  54  63  72  81  90  99 108]\n",
      " [ 10  20  30  40  50  60  70  80  90 100 110 120]\n",
      " [ 11  22  33  44  55  66  77  88  99 110 121 132]\n",
      " [ 12  24  36  48  60  72  84  96 108 120 132 144]]\n"
     ]
    }
   ],
   "source": [
    "import numpy as np\n",
    "def multiplicationTable(value):\n",
    "    x=np.array([range(1, value+2)])\n",
    "    y=np.ones([value+1, value+1])\n",
    "    y[0,:]=x\n",
    "    y[:,0]=x\n",
    "    for i in range(1, len(y)):\n",
    "        for j in range(1, len(y)):\n",
    "            y[i,j]=i*j\n",
    "    z=np.delete(y, 0, 0)\n",
    "    x=np.delete(z, 0, 1)\n",
    "    return x.astype(int)\n",
    "\n",
    "print(multiplicationTable(3))\n",
    "print(multiplicationTable(5))\n",
    "print(multiplicationTable(12))"
   ]
  },
  {
   "cell_type": "code",
   "execution_count": null,
   "metadata": {},
   "outputs": [],
   "source": []
  }
 ],
 "metadata": {
  "kernelspec": {
   "display_name": "Python 3",
   "language": "python",
   "name": "python3"
  },
  "language_info": {
   "codemirror_mode": {
    "name": "ipython",
    "version": 3
   },
   "file_extension": ".py",
   "mimetype": "text/x-python",
   "name": "python",
   "nbconvert_exporter": "python",
   "pygments_lexer": "ipython3",
   "version": "3.7.6"
  }
 },
 "nbformat": 4,
 "nbformat_minor": 4
}
