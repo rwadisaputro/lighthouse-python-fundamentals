{
 "cells": [
  {
   "cell_type": "code",
   "execution_count": 9,
   "metadata": {
    "ExecuteTime": {
     "end_time": "2020-02-05T17:54:42.062131Z",
     "start_time": "2020-02-05T17:54:41.626763Z"
    }
   },
   "outputs": [],
   "source": [
    "# import numpy\n",
    "import numpy as np\n",
    "\n",
    "# import matplotlib.pyplot\n",
    "import matplotlib.pyplot as plt\n",
    "\n",
    "# import Counter\n",
    "from collections import Counter\n",
    "\n",
    "# use style 'fivethirtyeight' (optional)\n",
    "plt.style.use('fivethirtyeight')"
   ]
  },
  {
   "cell_type": "markdown",
   "metadata": {
    "ExecuteTime": {
     "end_time": "2020-02-05T17:54:42.113199Z",
     "start_time": "2020-02-05T17:54:42.101587Z"
    }
   },
   "source": [
    "#### Create function `perform_bernouli_trial` with parameters n and p\n",
    "\n",
    "PARAMS:\n",
    "- n (int) - number of trials\n",
    "- p (float) - probability of success\n",
    "\n",
    "RETURNS:\n",
    "- n_success (int) - number of successes"
   ]
  },
  {
   "cell_type": "code",
   "execution_count": 144,
   "metadata": {},
   "outputs": [],
   "source": [
    "def perform_bernoulli_trial(n, p):\n",
    "    n_samples = np.random.random(n)\n",
    "    n_success = 0\n",
    "    for i in n_samples:\n",
    "        if i > p:\n",
    "            n_success += 1         \n",
    "    return n_success"
   ]
  },
  {
   "cell_type": "markdown",
   "metadata": {
    "ExecuteTime": {
     "end_time": "2020-02-05T17:54:42.610756Z",
     "start_time": "2020-02-05T17:54:42.602316Z"
    }
   },
   "source": [
    "#### Use function `perform_bernoulli_trials` with inputs n = 100, p = 0.5"
   ]
  },
  {
   "cell_type": "code",
   "execution_count": 145,
   "metadata": {},
   "outputs": [
    {
     "data": {
      "text/plain": [
       "58"
      ]
     },
     "execution_count": 145,
     "metadata": {},
     "output_type": "execute_result"
    }
   ],
   "source": [
    "perform_bernoulli_trial(100, 0.5)"
   ]
  },
  {
   "cell_type": "markdown",
   "metadata": {
    "ExecuteTime": {
     "end_time": "2020-02-05T17:54:43.020097Z",
     "start_time": "2020-02-05T17:54:42.962800Z"
    }
   },
   "source": [
    "#### Call function _perform_bernoulli_trials_ 1000-times with same parameters as before and store the result in `successes_list`"
   ]
  },
  {
   "cell_type": "code",
   "execution_count": 146,
   "metadata": {},
   "outputs": [
    {
     "data": {
      "text/plain": [
       "42"
      ]
     },
     "execution_count": 146,
     "metadata": {},
     "output_type": "execute_result"
    }
   ],
   "source": [
    "def perform_bernoulli_trial2(n, p):\n",
    "    n_samples = np.random.random(n)\n",
    "    n_success = 0\n",
    "    success_list = list()\n",
    "    iter_success_value = list()\n",
    "    for s in range(1000):\n",
    "        for i in n_samples:\n",
    "            if i > p:\n",
    "                n_success += 1   \n",
    "        return n_success\n",
    "        iter_success_value.append(n_success)\n",
    "    successes_list.append(iter_success_value)\n",
    "\n",
    "perform_bernoulli_trial2(100, 0.5)"
   ]
  },
  {
   "cell_type": "code",
   "execution_count": 150,
   "metadata": {},
   "outputs": [
    {
     "data": {
      "text/plain": [
       "[46, 51, 54, 40, 40]"
      ]
     },
     "execution_count": 150,
     "metadata": {},
     "output_type": "execute_result"
    }
   ],
   "source": [
    "successes_list = list()\n",
    "for s in range(1000):\n",
    "    successes_list.append(perform_bernoulli_trial(100,0.5))\n",
    "    \n",
    "successes_list[:5]"
   ]
  },
  {
   "cell_type": "markdown",
   "metadata": {
    "ExecuteTime": {
     "end_time": "2020-02-05T17:54:43.296477Z",
     "start_time": "2020-02-05T17:54:43.289959Z"
    }
   },
   "source": [
    "#### Count occurence of each number from `successes_list` using Counter and store the result in `count_occurence`\n",
    "\n",
    "You can find for more info about Counter [**here**](https://docs.python.org/2/library/collections.html#collections.Counter)."
   ]
  },
  {
   "cell_type": "code",
   "execution_count": 178,
   "metadata": {},
   "outputs": [],
   "source": [
    "count_occurence = Counter(successes_list).most_common()"
   ]
  },
  {
   "cell_type": "code",
   "execution_count": 179,
   "metadata": {},
   "outputs": [
    {
     "data": {
      "text/plain": [
       "[(50, 82),\n",
       " (49, 82),\n",
       " (52, 74),\n",
       " (48, 71),\n",
       " (51, 70),\n",
       " (46, 69),\n",
       " (47, 63),\n",
       " (53, 59),\n",
       " (55, 55),\n",
       " (54, 53),\n",
       " (45, 51),\n",
       " (43, 35),\n",
       " (44, 32),\n",
       " (57, 31),\n",
       " (58, 29),\n",
       " (56, 28),\n",
       " (41, 22),\n",
       " (42, 20),\n",
       " (59, 14),\n",
       " (39, 12),\n",
       " (40, 11),\n",
       " (60, 11),\n",
       " (61, 6),\n",
       " (63, 4),\n",
       " (62, 4),\n",
       " (68, 2),\n",
       " (65, 2),\n",
       " (38, 2),\n",
       " (66, 2),\n",
       " (37, 1),\n",
       " (34, 1),\n",
       " (64, 1),\n",
       " (32, 1)]"
      ]
     },
     "execution_count": 179,
     "metadata": {},
     "output_type": "execute_result"
    }
   ],
   "source": [
    "count_occurence"
   ]
  },
  {
   "cell_type": "markdown",
   "metadata": {
    "ExecuteTime": {
     "end_time": "2020-02-05T17:54:43.571225Z",
     "start_time": "2020-02-05T17:54:43.568147Z"
    }
   },
   "source": [
    "#### Count the probability for each number from `count_occurence` and store the result in `probas`\n"
   ]
  },
  {
   "cell_type": "code",
   "execution_count": 161,
   "metadata": {},
   "outputs": [],
   "source": [
    "d_count_occurence = dict(count_occurence)"
   ]
  },
  {
   "cell_type": "code",
   "execution_count": 182,
   "metadata": {},
   "outputs": [
    {
     "name": "stdout",
     "output_type": "stream",
     "text": [
      "dict_keys([50, 49, 52, 48, 51, 46, 47, 53, 55, 54, 45, 43, 44, 57, 58, 56, 41, 42, 59, 39, 40, 60, 61, 63, 62, 68, 65, 38, 66, 37, 34, 64, 32])\n",
      "dict_values([0.082, 0.082, 0.074, 0.071, 0.07, 0.069, 0.063, 0.059, 0.055, 0.053, 0.051, 0.035, 0.032, 0.031, 0.029, 0.028, 0.022, 0.02, 0.014, 0.012, 0.011, 0.011, 0.006, 0.004, 0.004, 0.002, 0.002, 0.002, 0.002, 0.001, 0.001, 0.001, 0.001])\n"
     ]
    }
   ],
   "source": [
    "total_iter = sum(d_count_occurence.values())\n",
    "probas = {k: v / total_iter for k, v in d_count_occurence.items()}\n",
    "print(probas.keys())\n",
    "print(probas.values())"
   ]
  },
  {
   "cell_type": "markdown",
   "metadata": {},
   "source": [
    "Below you have some information about how to do plots in Python. We will be covering all of this during the bootcamp. But you can find these basics here so we can visualize the distributions."
   ]
  },
  {
   "cell_type": "code",
   "execution_count": 183,
   "metadata": {
    "ExecuteTime": {
     "end_time": "2020-02-05T17:54:44.056628Z",
     "start_time": "2020-02-05T17:54:43.850076Z"
    }
   },
   "outputs": [
    {
     "data": {
      "image/png": "[encoded data removed]",
      "text/plain": [
       "<Figure size 432x288 with 1 Axes>"
      ]
     },
     "metadata": {},
     "output_type": "display_data"
    }
   ],
   "source": [
    "# plot distribution (PMF) of 'succes_list'\n",
    "plt.scatter(x=probas.keys(), y=probas.values())\n",
    "plt.xlabel('number of succeess out of 100')\n",
    "plt.ylabel('probability')\n",
    "# Show the plot\n",
    "plt.show()"
   ]
  },
  {
   "cell_type": "markdown",
   "metadata": {
    "ExecuteTime": {
     "end_time": "2020-02-05T17:54:44.112264Z",
     "start_time": "2020-02-05T17:54:44.096570Z"
    }
   },
   "source": [
    "#### Generate 100000 numbers from uniform distribution with parameters a = 1, b = 6\n"
   ]
  },
  {
   "cell_type": "code",
   "execution_count": 184,
   "metadata": {},
   "outputs": [],
   "source": [
    "uniform_dist = np.random.uniform(1, 6, 100000)"
   ]
  },
  {
   "cell_type": "code",
   "execution_count": 185,
   "metadata": {
    "ExecuteTime": {
     "end_time": "2020-02-05T17:54:44.515039Z",
     "start_time": "2020-02-05T17:54:44.330746Z"
    }
   },
   "outputs": [
    {
     "data": {
      "text/plain": [
       "array([2.53273434, 2.37515507, 4.04900317, 3.11375394, 4.13225129])"
      ]
     },
     "execution_count": 185,
     "metadata": {},
     "output_type": "execute_result"
    }
   ],
   "source": [
    "uniform_dist[:5]"
   ]
  },
  {
   "cell_type": "markdown",
   "metadata": {
    "ExecuteTime": {
     "end_time": "2020-02-05T17:54:44.583762Z",
     "start_time": "2020-02-05T17:54:44.555162Z"
    }
   },
   "source": [
    "#### Check the mean of uniform data (using NumPy)"
   ]
  },
  {
   "cell_type": "code",
   "execution_count": 188,
   "metadata": {},
   "outputs": [
    {
     "data": {
      "text/plain": [
       "3.496263134637349"
      ]
     },
     "execution_count": 188,
     "metadata": {},
     "output_type": "execute_result"
    }
   ],
   "source": [
    "np.mean(uniform_dist)"
   ]
  },
  {
   "cell_type": "markdown",
   "metadata": {
    "ExecuteTime": {
     "end_time": "2020-02-05T17:54:44.758510Z",
     "start_time": "2020-02-05T17:54:44.752087Z"
    }
   },
   "source": [
    "#### Generate 100000 numbers from exponential distribution with parameter beta = 0.5"
   ]
  },
  {
   "cell_type": "code",
   "execution_count": 189,
   "metadata": {},
   "outputs": [],
   "source": [
    "exponential_dist = np.random.exponential(0.5, 100000)"
   ]
  },
  {
   "cell_type": "code",
   "execution_count": 190,
   "metadata": {},
   "outputs": [
    {
     "data": {
      "text/plain": [
       "array([0.19592671, 0.02808243, 1.47401294, 0.00723086, 0.69989311])"
      ]
     },
     "execution_count": 190,
     "metadata": {},
     "output_type": "execute_result"
    }
   ],
   "source": [
    "exponential_dist[:5]"
   ]
  },
  {
   "cell_type": "markdown",
   "metadata": {
    "ExecuteTime": {
     "end_time": "2020-02-05T17:54:45.134091Z",
     "start_time": "2020-02-05T17:54:44.956351Z"
    }
   },
   "source": [
    "#### Plot histogram of exponential distribution with params `density=True`, `bins=100`\n"
   ]
  },
  {
   "cell_type": "code",
   "execution_count": 193,
   "metadata": {},
   "outputs": [
    {
     "data": {
      "text/plain": [
       "(array([1.87562304e+00, 1.67593822e+00, 1.45806962e+00, 1.31714534e+00,\n",
       "        1.19221605e+00, 1.02569978e+00, 9.35791101e-01, 8.29382325e-01,\n",
       "        7.13376555e-01, 6.62192587e-01, 5.81039059e-01, 5.13691732e-01,\n",
       "        4.54257717e-01, 3.93813491e-01, 3.63338826e-01, 3.07440545e-01,\n",
       "        3.02221127e-01, 2.48343266e-01, 2.19552284e-01, 2.04062399e-01,\n",
       "        1.76786732e-01, 1.54898851e-01, 1.37556914e-01, 1.16679243e-01,\n",
       "        1.13311877e-01, 1.06072039e-01, 8.21637382e-02, 7.20616393e-02,\n",
       "        7.12197977e-02, 5.87605423e-02, 5.30360196e-02, 4.68063919e-02,\n",
       "        4.29339206e-02, 3.87247127e-02, 3.06430335e-02, 2.71072989e-02,\n",
       "        2.20562494e-02, 2.37399326e-02, 1.98674613e-02, 2.18878811e-02,\n",
       "        1.81837781e-02, 1.53215168e-02, 1.26276237e-02, 1.29643603e-02,\n",
       "        9.93373065e-03, 1.17857821e-02, 7.74494254e-03, 6.56636433e-03,\n",
       "        4.04083959e-03, 6.56636433e-03, 5.21941780e-03, 4.37757622e-03,\n",
       "        3.03062969e-03, 3.19899801e-03, 2.02041979e-03, 3.36736632e-03,\n",
       "        1.51531484e-03, 2.35715643e-03, 1.68368316e-03, 1.68368316e-03,\n",
       "        2.02041979e-03, 8.41841580e-04, 8.41841580e-04, 8.41841580e-04,\n",
       "        1.17857821e-03, 8.41841580e-04, 6.73473264e-04, 8.41841580e-04,\n",
       "        3.36736632e-04, 6.73473264e-04, 6.73473264e-04, 3.36736632e-04,\n",
       "        3.36736632e-04, 0.00000000e+00, 3.36736632e-04, 0.00000000e+00,\n",
       "        5.05104948e-04, 3.36736632e-04, 1.68368316e-04, 1.68368316e-04,\n",
       "        3.36736632e-04, 1.68368316e-04, 0.00000000e+00, 0.00000000e+00,\n",
       "        0.00000000e+00, 0.00000000e+00, 1.68368316e-04, 0.00000000e+00,\n",
       "        0.00000000e+00, 0.00000000e+00, 0.00000000e+00, 0.00000000e+00,\n",
       "        0.00000000e+00, 0.00000000e+00, 1.68368316e-04, 0.00000000e+00,\n",
       "        0.00000000e+00, 0.00000000e+00, 1.68368316e-04, 1.68368316e-04]),\n",
       " array([6.94992131e-06, 5.94005474e-02, 1.18794145e-01, 1.78187742e-01,\n",
       "        2.37581340e-01, 2.96974938e-01, 3.56368535e-01, 4.15762133e-01,\n",
       "        4.75155730e-01, 5.34549328e-01, 5.93942925e-01, 6.53336523e-01,\n",
       "        7.12730120e-01, 7.72123718e-01, 8.31517315e-01, 8.90910913e-01,\n",
       "        9.50304510e-01, 1.00969811e+00, 1.06909171e+00, 1.12848530e+00,\n",
       "        1.18787890e+00, 1.24727250e+00, 1.30666610e+00, 1.36605969e+00,\n",
       "        1.42545329e+00, 1.48484689e+00, 1.54424049e+00, 1.60363408e+00,\n",
       "        1.66302768e+00, 1.72242128e+00, 1.78181488e+00, 1.84120847e+00,\n",
       "        1.90060207e+00, 1.95999567e+00, 2.01938927e+00, 2.07878286e+00,\n",
       "        2.13817646e+00, 2.19757006e+00, 2.25696366e+00, 2.31635725e+00,\n",
       "        2.37575085e+00, 2.43514445e+00, 2.49453805e+00, 2.55393164e+00,\n",
       "        2.61332524e+00, 2.67271884e+00, 2.73211244e+00, 2.79150603e+00,\n",
       "        2.85089963e+00, 2.91029323e+00, 2.96968683e+00, 3.02908042e+00,\n",
       "        3.08847402e+00, 3.14786762e+00, 3.20726122e+00, 3.26665481e+00,\n",
       "        3.32604841e+00, 3.38544201e+00, 3.44483561e+00, 3.50422920e+00,\n",
       "        3.56362280e+00, 3.62301640e+00, 3.68241000e+00, 3.74180359e+00,\n",
       "        3.80119719e+00, 3.86059079e+00, 3.91998439e+00, 3.97937798e+00,\n",
       "        4.03877158e+00, 4.09816518e+00, 4.15755878e+00, 4.21695237e+00,\n",
       "        4.27634597e+00, 4.33573957e+00, 4.39513317e+00, 4.45452676e+00,\n",
       "        4.51392036e+00, 4.57331396e+00, 4.63270756e+00, 4.69210115e+00,\n",
       "        4.75149475e+00, 4.81088835e+00, 4.87028195e+00, 4.92967554e+00,\n",
       "        4.98906914e+00, 5.04846274e+00, 5.10785634e+00, 5.16724993e+00,\n",
       "        5.22664353e+00, 5.28603713e+00, 5.34543073e+00, 5.40482432e+00,\n",
       "        5.46421792e+00, 5.52361152e+00, 5.58300512e+00, 5.64239871e+00,\n",
       "        5.70179231e+00, 5.76118591e+00, 5.82057951e+00, 5.87997310e+00,\n",
       "        5.93936670e+00]),\n",
       " <a list of 100 Patch objects>)"
      ]
     },
     "execution_count": 193,
     "metadata": {},
     "output_type": "execute_result"
    },
    {
     "data": {
      "image/png": "[encoded data removed]",
      "text/plain": [
       "<Figure size 432x288 with 1 Axes>"
      ]
     },
     "metadata": {},
     "output_type": "display_data"
    }
   ],
   "source": [
    "plt.hist(x = exponential_dist, density = True, bins = 100)"
   ]
  },
  {
   "cell_type": "markdown",
   "metadata": {
    "ExecuteTime": {
     "end_time": "2020-02-05T17:54:45.187080Z",
     "start_time": "2020-02-05T17:54:45.171406Z"
    }
   },
   "source": [
    "#### Check the mean of exponential data"
   ]
  },
  {
   "cell_type": "code",
   "execution_count": 194,
   "metadata": {},
   "outputs": [
    {
     "data": {
      "text/plain": [
       "0.5010039352620659"
      ]
     },
     "execution_count": 194,
     "metadata": {},
     "output_type": "execute_result"
    }
   ],
   "source": [
    "np.mean(exponential_dist)"
   ]
  }
 ],
 "metadata": {
  "kernelspec": {
   "display_name": "Python 3",
   "language": "python",
   "name": "python3"
  },
  "language_info": {
   "codemirror_mode": {
    "name": "ipython",
    "version": 3
   },
   "file_extension": ".py",
   "mimetype": "text/x-python",
   "name": "python",
   "nbconvert_exporter": "python",
   "pygments_lexer": "ipython3",
   "version": "3.7.6"
  },
  "toc": {
   "base_numbering": 1,
   "nav_menu": {},
   "number_sections": true,
   "sideBar": true,
   "skip_h1_title": false,
   "title_cell": "Table of Contents",
   "title_sidebar": "Contents",
   "toc_cell": false,
   "toc_position": {},
   "toc_section_display": true,
   "toc_window_display": false
  },
  "varInspector": {
   "cols": {
    "lenName": 16,
    "lenType": 16,
    "lenVar": 40
   },
   "kernels_config": {
    "python": {
     "delete_cmd_postfix": "",
     "delete_cmd_prefix": "del ",
     "library": "var_list.py",
     "varRefreshCmd": "print(var_dic_list())"
    },
    "r": {
     "delete_cmd_postfix": ") ",
     "delete_cmd_prefix": "rm(",
     "library": "var_list.r",
     "varRefreshCmd": "cat(var_dic_list()) "
    }
   },
   "types_to_exclude": [
    "module",
    "function",
    "builtin_function_or_method",
    "instance",
    "_Feature"
   ],
   "window_display": false
  }
 },
 "nbformat": 4,
 "nbformat_minor": 4
}
